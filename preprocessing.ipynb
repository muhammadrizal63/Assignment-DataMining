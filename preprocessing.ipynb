{
 "cells": [
  {
   "cell_type": "code",
   "execution_count": 1,
   "id": "907bde44",
   "metadata": {},
   "outputs": [],
   "source": [
    "import numpy as np\n",
    "import matplotlib.pyplot as plt\n",
    "import pandas as pd"
   ]
  },
  {
   "cell_type": "code",
   "execution_count": 2,
   "id": "4920cc06",
   "metadata": {},
   "outputs": [],
   "source": [
    "dataset = pd.read_csv('top100_kdrama.csv')\n",
    "x = dataset.iloc[:, :-1].values\n",
    "y = dataset.iloc[:, -1].values"
   ]
  },
  {
   "cell_type": "code",
   "execution_count": 3,
   "id": "180077d4",
   "metadata": {},
   "outputs": [
    {
     "name": "stdout",
     "output_type": "stream",
     "text": [
      "[['Move to Heaven' 2021 'May 14, 2021' ... 'Life,  Drama,  Family '\n",
      "  'Autism, Uncle-Nephew Relationship, Death, Savant Syndrome, Mourning, Tearjerker, Father-Son Relationship, Life Lesson, Ex-convict, Cleaning And Organizing'\n",
      "  '#1']\n",
      " ['Hospital Playlist' 2020 'Mar 12, 2020 - May 28, 2020' ...\n",
      "  'Friendship,  Romance,  Life,  Medical '\n",
      "  'Strong Friendship, Multiple Mains, Best Friends, Hospital, Slow Romance, Strong Female Lead, Multiple Couples, Slight Romance, Nice Male Lead, Bromance'\n",
      "  '#2']\n",
      " ['Flower of Evil' 2020 'Jul 29, 2020 - Sep 23, 2020' ...\n",
      "  'Thriller,  Romance,  Crime,  Melodrama '\n",
      "  'Married Couple, Deception, Suspense, Family Secret, Hidden Personality, Smart Female Lead, Antisocial Personality Disorder, Investigation, Serial Killer, Psychopath'\n",
      "  '#3']\n",
      " ...\n",
      " ['When the Camellia Blooms' 2019 'Sep 18, 2019 - Nov 21, 2019' ...\n",
      "  'Thriller,  Comedy,  Romance,  Drama,  Family '\n",
      "  'Single Mother, Mystery, Motherhood, Serial Killer, Mother-Son Relationship, Hardworking Female Lead, Dorky Male Lead, Male Chases Female First, Nice Male Lead, Independent Female Lead'\n",
      "  '#98']\n",
      " ['Because This Is My First Life' 2017 'Oct  9, 2017 - Nov 28, 2017' ...\n",
      "  'Comedy,  Romance,  Life,  Drama '\n",
      "  'Contract Relationship, Marriage Of Convenience, Housemates, Eccentric Male Lead, Multiple Couples, Cohabitation, Sismance, Nerdy Male Lead, Writer, Multiple Mains'\n",
      "  '#99']\n",
      " ['Fight For My Way' 2017 'May 22, 2017 - Jul 11, 2017' ...\n",
      "  'Business,  Comedy,  Romance,  Sports '\n",
      "  'Childhood Friends, Friends To Lovers, Strong Male Lead, Strong Female Lead, Neighbors, Strong Friendship, Personal Growth, Character Development, Secondary Couple, Ex-girlfriend Comes Back'\n",
      "  '#100']]\n"
     ]
    }
   ],
   "source": [
    "print(x)"
   ]
  },
  {
   "cell_type": "code",
   "execution_count": 4,
   "id": "c4e07de1",
   "metadata": {},
   "outputs": [
    {
     "name": "stdout",
     "output_type": "stream",
     "text": [
      "[9.2 9.1 9.1 9.1 9.1 9.1 9.  9.  9.  9.  9.  9.  9.  9.  9.  8.9 8.9 8.9\n",
      " 8.9 8.9 8.8 8.8 8.8 8.8 8.8 8.8 8.8 8.8 8.8 8.8 8.8 8.8 8.8 8.8 8.8 8.8\n",
      " 8.7 8.7 8.7 8.7 8.7 8.7 8.7 8.7 8.7 8.7 8.7 8.7 8.7 8.7 8.7 8.7 8.7 8.7\n",
      " 8.7 8.7 8.7 8.7 8.7 8.7 8.6 8.6 8.6 8.6 8.6 8.6 8.6 8.6 8.6 8.6 8.6 8.6\n",
      " 8.6 8.6 8.6 8.6 8.6 8.6 8.6 8.6 8.6 8.6 8.6 8.6 8.6 8.5 8.5 8.5 8.5 8.5\n",
      " 8.5 8.5 8.5 8.5 8.5 8.5 8.5 8.5 8.5 8.5]\n"
     ]
    }
   ],
   "source": [
    "print(y)"
   ]
  },
  {
   "cell_type": "code",
   "execution_count": null,
   "id": "cec22796",
   "metadata": {},
   "outputs": [],
   "source": []
  }
 ],
 "metadata": {
  "kernelspec": {
   "display_name": "Python 3 (ipykernel)",
   "language": "python",
   "name": "python3"
  },
  "language_info": {
   "codemirror_mode": {
    "name": "ipython",
    "version": 3
   },
   "file_extension": ".py",
   "mimetype": "text/x-python",
   "name": "python",
   "nbconvert_exporter": "python",
   "pygments_lexer": "ipython3",
   "version": "3.9.7"
  }
 },
 "nbformat": 4,
 "nbformat_minor": 5
}
